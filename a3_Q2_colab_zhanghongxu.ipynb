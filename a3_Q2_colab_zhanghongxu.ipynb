{
  "nbformat": 4,
  "nbformat_minor": 0,
  "metadata": {
    "colab": {
      "provenance": [],
      "authorship_tag": "ABX9TyMpYGKLoTbdZ1cO1fsMRbuZ",
      "include_colab_link": true
    },
    "kernelspec": {
      "name": "python3",
      "display_name": "Python 3"
    },
    "language_info": {
      "name": "python"
    }
  },
  "cells": [
    {
      "cell_type": "markdown",
      "metadata": {
        "id": "view-in-github",
        "colab_type": "text"
      },
      "source": [
        "<a href=\"https://colab.research.google.com/github/hongxuzhang/courses/blob/master/a3_Q2_colab_zhanghongxu.ipynb\" target=\"_parent\"><img src=\"https://colab.research.google.com/assets/colab-badge.svg\" alt=\"Open In Colab\"/></a>"
      ]
    },
    {
      "cell_type": "markdown",
      "source": [
        "## Q2"
      ],
      "metadata": {
        "id": "GocZPc9ZW2d6"
      }
    },
    {
      "cell_type": "markdown",
      "source": [
        "Adapted from Problem 3.15 of Tsay (2005)] Consider the percentage daily log returns of GM stock and the S&P\n",
        "500 index from 2003 to 2021, but we shall investigate whether the volatility of GM stock has any contribution\n",
        "in modeling the S&P 500 index volatility. Follow the steps below to perform the analysis.\n",
        "\n",
        "(a) Fit a GARCH(1,1) model with generalized error distribution to the percentage log returns of GM stock.\n",
        "Denote the fitted volatility by gmvol. Build an adequate GARCH model plus gmvol as the exogenous variable for the log S&P return series. Write down the fitted model.\n",
        "\n",
        "(b) Is the volatility of GM stock returns helpful in modeling the volatility of the S&P index returns? Why?"
      ],
      "metadata": {
        "id": "IVQg9CAVW0h9"
      }
    },
    {
      "cell_type": "code",
      "execution_count": 2,
      "metadata": {
        "colab": {
          "base_uri": "https://localhost:8080/"
        },
        "id": "yxuGlf1IS9q2",
        "outputId": "f45ea60d-a850-461f-986b-255854f70318"
      },
      "outputs": [
        {
          "output_type": "stream",
          "name": "stdout",
          "text": [
            "Mounted at /content/drive\n"
          ]
        },
        {
          "output_type": "stream",
          "name": "stderr",
          "text": [
            "<ipython-input-2-0d8c9de16522>:15: MatplotlibDeprecationWarning: The seaborn styles shipped by Matplotlib are deprecated since 3.6, as they no longer correspond to the styles shipped by seaborn. However, they will remain available as 'seaborn-v0_8-<style>'. Alternatively, directly use the seaborn API instead.\n",
            "  plt.style.use('seaborn')\n"
          ]
        }
      ],
      "source": [
        "# change directory from google colab into google drive, connect to google drive first\n",
        "from google.colab import drive\n",
        "drive.mount('/content/drive')\n",
        "\n",
        "# change the present working directory\n",
        "import os\n",
        "os.chdir('/content/drive/MyDrive/Colab Notebooks')\n",
        "\n",
        "%matplotlib inline\n",
        "%config InlineBackend.figure_format = 'retina'\n",
        "\n",
        "import matplotlib.pyplot as plt\n",
        "#import warnings\n",
        "\n",
        "plt.style.use('seaborn')\n",
        "# plt.style.use('seaborn-colorblind') #alternative\n",
        "plt.rcParams['figure.figsize'] = [8, 4.5]\n",
        "plt.rcParams['figure.dpi'] = 300\n",
        "#warnings.simplefilter(action='ignore', category=FutureWarning)"
      ]
    },
    {
      "cell_type": "code",
      "source": [
        "!pip install arch;"
      ],
      "metadata": {
        "colab": {
          "base_uri": "https://localhost:8080/"
        },
        "id": "UlwPzFgPTji9",
        "outputId": "cdea4266-efc8-41f2-cac0-a98f19581c99"
      },
      "execution_count": 4,
      "outputs": [
        {
          "output_type": "stream",
          "name": "stdout",
          "text": [
            "Collecting arch\n",
            "  Downloading arch-7.0.0-cp310-cp310-manylinux_2_17_x86_64.manylinux2014_x86_64.whl (983 kB)\n",
            "\u001b[2K     \u001b[90m━━━━━━━━━━━━━━━━━━━━━━━━━━━━━━━━━━━━━━━━\u001b[0m \u001b[32m983.4/983.4 kB\u001b[0m \u001b[31m5.4 MB/s\u001b[0m eta \u001b[36m0:00:00\u001b[0m\n",
            "\u001b[?25hRequirement already satisfied: numpy>=1.22.3 in /usr/local/lib/python3.10/dist-packages (from arch) (1.25.2)\n",
            "Requirement already satisfied: scipy>=1.8 in /usr/local/lib/python3.10/dist-packages (from arch) (1.11.4)\n",
            "Requirement already satisfied: pandas>=1.4 in /usr/local/lib/python3.10/dist-packages (from arch) (2.0.3)\n",
            "Requirement already satisfied: statsmodels>=0.12 in /usr/local/lib/python3.10/dist-packages (from arch) (0.14.2)\n",
            "Requirement already satisfied: python-dateutil>=2.8.2 in /usr/local/lib/python3.10/dist-packages (from pandas>=1.4->arch) (2.8.2)\n",
            "Requirement already satisfied: pytz>=2020.1 in /usr/local/lib/python3.10/dist-packages (from pandas>=1.4->arch) (2023.4)\n",
            "Requirement already satisfied: tzdata>=2022.1 in /usr/local/lib/python3.10/dist-packages (from pandas>=1.4->arch) (2024.1)\n",
            "Requirement already satisfied: patsy>=0.5.6 in /usr/local/lib/python3.10/dist-packages (from statsmodels>=0.12->arch) (0.5.6)\n",
            "Requirement already satisfied: packaging>=21.3 in /usr/local/lib/python3.10/dist-packages (from statsmodels>=0.12->arch) (24.0)\n",
            "Requirement already satisfied: six in /usr/local/lib/python3.10/dist-packages (from patsy>=0.5.6->statsmodels>=0.12->arch) (1.16.0)\n",
            "Installing collected packages: arch\n",
            "Successfully installed arch-7.0.0\n"
          ]
        }
      ]
    },
    {
      "cell_type": "code",
      "source": [
        "import pandas as pd\n",
        "import yfinance as yf\n",
        "from arch import arch_model\n",
        "import numpy as np"
      ],
      "metadata": {
        "id": "ZUTKQBuuTE1n"
      },
      "execution_count": 13,
      "outputs": []
    },
    {
      "cell_type": "code",
      "source": [
        "#### for GM\n",
        "RISKY_ASSET = 'GM'\n",
        "START_DATE = '2003-01-01'\n",
        "END_DATE = '2021-12-31'\n",
        "\n",
        "gm = yf.download(RISKY_ASSET,\n",
        "                 start=START_DATE,\n",
        "                 end=END_DATE)\n",
        "\n",
        "print(f'Downloaded {gm.shape[0]} rows of data.')\n",
        "\n",
        "# Calculate daily returns (mutiply 100 to avoid convergence warnings due to very small numbers)\n",
        "gm_returns = 100 * gm['Adj Close'].pct_change().dropna()"
      ],
      "metadata": {
        "colab": {
          "base_uri": "https://localhost:8080/"
        },
        "id": "McN7RK--Ta-o",
        "outputId": "8a89e9dd-4ae3-4f5c-92bd-f53ad6f1eb85"
      },
      "execution_count": 8,
      "outputs": [
        {
          "output_type": "stream",
          "name": "stderr",
          "text": [
            "\r[*********************100%%**********************]  1 of 1 completed"
          ]
        },
        {
          "output_type": "stream",
          "name": "stdout",
          "text": [
            "Downloaded 2798 rows of data.\n"
          ]
        },
        {
          "output_type": "stream",
          "name": "stderr",
          "text": [
            "\n"
          ]
        }
      ]
    },
    {
      "cell_type": "code",
      "source": [
        "# # rename return\n",
        "# gm_returns.name = 'asset_returns'\n",
        "# print(f'Average return: {round(gm_returns.mean(), 2)}%')\n",
        "\n",
        "# # plot the daily returns and add the title\n",
        "# gm_returns.plot(title=f'{RISKY_ASSET} gm_returns: {START_DATE} - {END_DATE}');\n",
        "\n",
        "# plt.tight_layout()\n",
        "# plt.show()"
      ],
      "metadata": {
        "id": "fREfsKQTUGTv"
      },
      "execution_count": 27,
      "outputs": []
    },
    {
      "cell_type": "code",
      "source": [
        "### for S&P500\n",
        "RISKY_ASSET = '^GSPC'\n",
        "START_DATE = '2003-01-01'\n",
        "END_DATE = '2021-12-31'\n",
        "\n",
        "sp = yf.download(RISKY_ASSET,\n",
        "                 start=START_DATE,\n",
        "                 end=END_DATE)\n",
        "\n",
        "print(f'Downloaded {sp.shape[0]} rows of data.')\n",
        "\n",
        "sp_returns = 100 * sp['Adj Close'].pct_change()\n",
        "\n",
        "sp_returns_log = np.log(sp_returns)\n",
        "sp_returns_log = sp_returns_log.replace([np.inf, -np.inf], np.nan)"
      ],
      "metadata": {
        "colab": {
          "base_uri": "https://localhost:8080/"
        },
        "id": "-6hVX3RBUK2w",
        "outputId": "45127608-a7f1-4767-ecc5-3883027e4d98"
      },
      "execution_count": 21,
      "outputs": [
        {
          "output_type": "stream",
          "name": "stderr",
          "text": [
            "\r[*********************100%%**********************]  1 of 1 completed"
          ]
        },
        {
          "output_type": "stream",
          "name": "stdout",
          "text": [
            "Downloaded 4783 rows of data.\n"
          ]
        },
        {
          "output_type": "stream",
          "name": "stderr",
          "text": [
            "\n",
            "/usr/local/lib/python3.10/dist-packages/pandas/core/arraylike.py:396: RuntimeWarning: divide by zero encountered in log\n",
            "  result = getattr(ufunc, method)(*inputs, **kwargs)\n",
            "/usr/local/lib/python3.10/dist-packages/pandas/core/arraylike.py:396: RuntimeWarning: invalid value encountered in log\n",
            "  result = getattr(ufunc, method)(*inputs, **kwargs)\n"
          ]
        }
      ]
    },
    {
      "cell_type": "code",
      "source": [
        "# # # rename return\n",
        "# sp_returns.name = 'asset_returns'\n",
        "# print(f'Average return: {round(sp_returns.mean(), 2)}%')\n",
        "\n",
        "# # plot the daily returns and add the title\n",
        "# sp_returns.plot(title=f'{RISKY_ASSET} sp_returns: {START_DATE} - {END_DATE}');\n",
        "\n",
        "# plt.tight_layout()\n",
        "# plt.show()"
      ],
      "metadata": {
        "id": "ftfcpiz3UKwn"
      },
      "execution_count": 28,
      "outputs": []
    },
    {
      "cell_type": "code",
      "source": [
        "### build GARCH model for GM\n",
        "# define the model, we selected the zero-mean approach for comparision's sake\n",
        "gm_model = arch_model(gm_returns_log.dropna(), mean='Zero', vol='GARCH', # specify the type of volatility model and set q=1\n",
        "                   p=1, o=0, q=1)"
      ],
      "metadata": {
        "id": "hGETyYf7UbWY"
      },
      "execution_count": 24,
      "outputs": []
    },
    {
      "cell_type": "code",
      "source": [
        "garch_results = gm_model.fit()"
      ],
      "metadata": {
        "colab": {
          "base_uri": "https://localhost:8080/"
        },
        "id": "MUKGuPpfUKrE",
        "outputId": "c6feff12-1c27-4520-90cc-865d38ce71a2"
      },
      "execution_count": 26,
      "outputs": [
        {
          "output_type": "stream",
          "name": "stdout",
          "text": [
            "Iteration:      1,   Func. Count:      5,   Neg. LLF: 1296259.6358286492\n",
            "Iteration:      2,   Func. Count:     12,   Neg. LLF: 5343.729946083712\n",
            "Iteration:      3,   Func. Count:     21,   Neg. LLF: 4883.438200921873\n",
            "Iteration:      4,   Func. Count:     26,   Neg. LLF: 5464.5565171760745\n",
            "Iteration:      5,   Func. Count:     31,   Neg. LLF: 4878.019993408226\n",
            "Iteration:      6,   Func. Count:     36,   Neg. LLF: 4863.051684049252\n",
            "Iteration:      7,   Func. Count:     41,   Neg. LLF: 4862.2820059697215\n",
            "Iteration:      8,   Func. Count:     45,   Neg. LLF: 4862.276139736509\n",
            "Iteration:      9,   Func. Count:     49,   Neg. LLF: 4862.276079248016\n",
            "Iteration:     10,   Func. Count:     53,   Neg. LLF: 4862.2760760457395\n",
            "Iteration:     11,   Func. Count:     57,   Neg. LLF: 4862.276072387276\n",
            "Iteration:     12,   Func. Count:     60,   Neg. LLF: 4862.2760723868305\n",
            "Optimization terminated successfully    (Exit mode 0)\n",
            "            Current function value: 4862.276072387276\n",
            "            Iterations: 12\n",
            "            Function evaluations: 60\n",
            "            Gradient evaluations: 12\n"
          ]
        }
      ]
    },
    {
      "cell_type": "code",
      "source": [
        "# Step 3: Obtain Fitted Volatility (gmvol)\n",
        "gmvol = garch_results.conditional_volatility\n",
        "\n",
        "# Step 4: Build GARCH Model for S&P 500 Index Returns\n",
        "sp500_model = arch_model(sp_returns_log.dropna(), vol='Garch', p=1, q=1, x=gmvol)\n",
        "sp500_results = sp500_model.fit()\n",
        "\n",
        "# Step 5: Assess the Contribution of GM Stock Volatility\n",
        "# Examine the estimated coefficients, including the coefficient for gmvol\n",
        "print(sp500_results.summary())\n"
      ],
      "metadata": {
        "colab": {
          "base_uri": "https://localhost:8080/"
        },
        "id": "mzxjAVDuZASR",
        "outputId": "6536fd76-ebe5-47cb-943c-377dc9310d93"
      },
      "execution_count": 31,
      "outputs": [
        {
          "output_type": "stream",
          "name": "stdout",
          "text": [
            "Iteration:      1,   Func. Count:      6,   Neg. LLF: 10867.718241631144\n",
            "Iteration:      2,   Func. Count:     15,   Neg. LLF: 34489961909.911156\n",
            "Iteration:      3,   Func. Count:     24,   Neg. LLF: 640826.93695432\n",
            "Iteration:      4,   Func. Count:     32,   Neg. LLF: 4360.842563806986\n",
            "Iteration:      5,   Func. Count:     38,   Neg. LLF: 4359.630677359222\n",
            "Iteration:      6,   Func. Count:     44,   Neg. LLF: 4356.253803185551\n",
            "Iteration:      7,   Func. Count:     50,   Neg. LLF: 4356.040900105772\n",
            "Iteration:      8,   Func. Count:     56,   Neg. LLF: 4347.060799389719\n",
            "Iteration:      9,   Func. Count:     62,   Neg. LLF: 4346.51627803806\n",
            "Iteration:     10,   Func. Count:     68,   Neg. LLF: 4346.501805350744\n",
            "Iteration:     11,   Func. Count:     74,   Neg. LLF: 4346.500853472531\n",
            "Iteration:     12,   Func. Count:     79,   Neg. LLF: 4346.500817253525\n",
            "Iteration:     13,   Func. Count:     84,   Neg. LLF: 4346.500813151051\n",
            "Iteration:     14,   Func. Count:     89,   Neg. LLF: 4346.500812301523\n",
            "Optimization terminated successfully    (Exit mode 0)\n",
            "            Current function value: 4346.500812301523\n",
            "            Iterations: 14\n",
            "            Function evaluations: 89\n",
            "            Gradient evaluations: 14\n",
            "                     Constant Mean - GARCH Model Results                      \n",
            "==============================================================================\n",
            "Dep. Variable:              Adj Close   R-squared:                       0.000\n",
            "Mean Model:             Constant Mean   Adj. R-squared:                  0.000\n",
            "Vol Model:                      GARCH   Log-Likelihood:               -4346.50\n",
            "Distribution:                  Normal   AIC:                           8701.00\n",
            "Method:            Maximum Likelihood   BIC:                           8724.50\n",
            "                                        No. Observations:                 2629\n",
            "Date:                Tue, Apr 30 2024   Df Residuals:                     2628\n",
            "Time:                        09:47:09   Df Model:                            1\n",
            "                               Mean Model                               \n",
            "========================================================================\n",
            "                 coef    std err          t      P>|t|  95.0% Conf. Int.\n",
            "------------------------------------------------------------------------\n",
            "mu            -0.9105  2.594e-02    -35.097 7.407e-270 [ -0.961, -0.860]\n",
            "                               Volatility Model                              \n",
            "=============================================================================\n",
            "                 coef    std err          t      P>|t|       95.0% Conf. Int.\n",
            "-----------------------------------------------------------------------------\n",
            "omega          0.0794  6.515e-02      1.219      0.223   [-4.830e-02,  0.207]\n",
            "alpha[1]   8.6643e-03  8.449e-03      1.025      0.305 [-7.896e-03,2.522e-02]\n",
            "beta[1]        0.9418  4.648e-02     20.262  2.779e-91      [  0.851,  1.033]\n",
            "=============================================================================\n",
            "\n",
            "Covariance estimator: robust\n"
          ]
        }
      ]
    },
    {
      "cell_type": "markdown",
      "source": [
        "Summary:\n",
        "\n",
        "It appears that the GARCH model has captured the mean level of the S&P 500 index returns well, as indicated by the significant coefficient for the mean term.\n",
        "\n",
        "However, the volatility model's coefficients (omega, alpha[1]) are not statistically significant. This suggests that the volatility of GM stock returns, represented by gmvol, may not have a significant impact on modeling the volatility of the S&P 500 index returns, based on this particular GARCH model.\n",
        "\n",
        "the beta[1] is significant, which suggests that the lagged squared residuals play an important role in explaining the persistence of volatility in the S&P 500 index returns, indicating a long-term memory effect in the volatility dynamics"
      ],
      "metadata": {
        "id": "-XnPRV4qb_tv"
      }
    }
  ]
}